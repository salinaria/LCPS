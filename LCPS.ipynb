{
  "nbformat": 4,
  "nbformat_minor": 0,
  "metadata": {
    "colab": {
      "provenance": [],
      "gpuType": "T4"
    },
    "kernelspec": {
      "name": "python3",
      "display_name": "Python 3"
    },
    "language_info": {
      "name": "python"
    },
    "accelerator": "GPU"
  },
  "cells": [
    {
      "cell_type": "code",
      "source": [
        "import random\n",
        "import string\n",
        "\n",
        "def generate_random_string(length, characters=string.ascii_letters):\n",
        "    return ''.join(random.choice(characters).upper() for _ in range(length))\n",
        "\n",
        "# Example usage:\n",
        "random_string = generate_random_string(10)\n",
        "print(random_string)"
      ],
      "metadata": {
        "colab": {
          "base_uri": "https://localhost:8080/"
        },
        "id": "MPQN7QAyOouw",
        "outputId": "cc79431a-b009-4989-d60e-510744188811"
      },
      "execution_count": 1,
      "outputs": [
        {
          "output_type": "stream",
          "name": "stdout",
          "text": [
            "PNMVRBZVWW\n"
          ]
        }
      ]
    },
    {
      "cell_type": "markdown",
      "source": [
        "# Brute-force approach"
      ],
      "metadata": {
        "id": "Ak2Oz8yOjgH0"
      }
    },
    {
      "cell_type": "code",
      "source": [
        "def get_all_substrings(s):\n",
        "    n = len(s)\n",
        "    subsequences = []\n",
        "    for mask in range(1, 1 << n):\n",
        "        subsequence = \"\"\n",
        "        for j in range(n):\n",
        "            if mask & (1 << j):\n",
        "                subsequence += s[j]\n",
        "        subsequences.append(subsequence)\n",
        "\n",
        "    return subsequences\n",
        "\n",
        "def palindromic(input):\n",
        "  for i in range(len(input)//2):\n",
        "    if input[i] != input[len(input)-i-1]:\n",
        "      return False\n",
        "  return True\n",
        "\n",
        "def bf(X,Y):\n",
        "  best = ''\n",
        "  lenght = len(X)\n",
        "  palindrome = 0\n",
        "  sub_str_X = get_all_substrings(X)\n",
        "  sub_str_Y = get_all_substrings(Y)\n",
        "  for i in sub_str_X:\n",
        "    if i in sub_str_Y:\n",
        "      if palindromic(i):\n",
        "        if len(i) > palindrome:\n",
        "          palindrome = len(i)\n",
        "          best = i\n",
        "  print(best)\n",
        "  return palindrome\n",
        "\n",
        "X = \"ABCA\"\n",
        "Y = \"ABCA\"\n",
        "print(\"LCPS(X, Y) =\", bf(X, Y))"
      ],
      "metadata": {
        "colab": {
          "base_uri": "https://localhost:8080/"
        },
        "id": "05d7prZDfo7A",
        "outputId": "38505880-27e8-4394-82cc-87408601c847"
      },
      "execution_count": 2,
      "outputs": [
        {
          "output_type": "stream",
          "name": "stdout",
          "text": [
            "ABA\n",
            "LCPS(X, Y) = 3\n"
          ]
        }
      ]
    },
    {
      "cell_type": "markdown",
      "source": [
        "# Two step DP approach"
      ],
      "metadata": {
        "id": "K3k5YOFIjkJ8"
      }
    },
    {
      "cell_type": "code",
      "execution_count": 3,
      "metadata": {
        "colab": {
          "base_uri": "https://localhost:8080/"
        },
        "id": "eFuPOTdPL6l_",
        "outputId": "0ca6ff14-8ca9-43af-eb83-e2e44b612014"
      },
      "outputs": [
        {
          "output_type": "stream",
          "name": "stdout",
          "text": [
            "LCPS(X, Y) = 3\n",
            "Elapsed time: 0.0004 seconds\n"
          ]
        }
      ],
      "source": [
        "import time\n",
        "\n",
        "def LCPS(X, Y):\n",
        "    # Build the dp table for LCS(X, Y)\n",
        "    n, m = len(X), len(Y)\n",
        "    dp_1 = [[0]*(m+1) for _ in range(n+1)]\n",
        "\n",
        "    for i in range(1, n+1):\n",
        "        for j in range(1, m+1):\n",
        "            if X[i-1] == Y[j-1]:\n",
        "                dp_1[i][j] = dp_1[i-1][j-1] + 1\n",
        "            else:\n",
        "                dp_1[i][j] = max(dp_1[i-1][j], dp_1[i][j-1])\n",
        "\n",
        "    # Backtrack to get the LCS string Z ---\n",
        "    i, j = n, m\n",
        "    lcs_chars = []\n",
        "    while i > 0 and j > 0:\n",
        "        if X[i-1] == Y[j-1]:\n",
        "            lcs_chars.append(X[i-1])\n",
        "            i -= 1\n",
        "            j -= 1\n",
        "        else:\n",
        "            if dp_1[i-1][j] > dp_1[i][j-1]:\n",
        "                i -= 1\n",
        "            else:\n",
        "                j -= 1\n",
        "\n",
        "    # Reverse order\n",
        "    Z = ''.join(reversed(lcs_chars))\n",
        "    Z_rev = Z[::-1]\n",
        "\n",
        "    # Build the dp table for LCS(Z, Z_rev) ---\n",
        "    k = len(Z)  # Length of the LCS string\n",
        "    dp_2 = [[0]*(k+1) for _ in range(k+1)]\n",
        "\n",
        "    for i in range(1, k+1):\n",
        "        for j in range(1, k+1):\n",
        "            if Z[i-1] == Z_rev[j-1]:\n",
        "                dp_2[i][j] = dp_2[i-1][j-1] + 1\n",
        "            else:\n",
        "                dp_2[i][j] = max(dp_2[i-1][j], dp_2[i][j-1])\n",
        "\n",
        "    # Final result: LCPS of (X,Y)\n",
        "    return dp_2[k][k]\n",
        "\n",
        "\n",
        "X = \"ABCA\"\n",
        "Y = \"ABCA\"\n",
        "start_time = time.perf_counter()\n",
        "print(\"LCPS(X, Y) =\", LCPS(X, Y))\n",
        "end_time = time.perf_counter()\n",
        "elapsed_time = end_time - start_time\n",
        "print(f\"Elapsed time: {elapsed_time:.4f} seconds\")"
      ]
    },
    {
      "cell_type": "markdown",
      "source": [
        "# Time copmarison"
      ],
      "metadata": {
        "id": "_MgaMx_ikGhL"
      }
    },
    {
      "cell_type": "code",
      "source": [
        "time_log_bf = []\n",
        "lentgh_bf = []\n",
        "X = []\n",
        "Y = []\n",
        "for a in range(1,18):\n",
        "  X.append(generate_random_string(a))\n",
        "  Y.append(generate_random_string(a))\n",
        "\n",
        "for a in range(len(X)):\n",
        "  start_time = time.perf_counter()\n",
        "  lcps = bf(X[a], Y[a])\n",
        "  end_time = time.perf_counter()\n",
        "  elapsed_time = end_time - start_time\n",
        "  lentgh_bf.append(len(X[a]))\n",
        "  time_log_bf.append(elapsed_time)"
      ],
      "metadata": {
        "colab": {
          "base_uri": "https://localhost:8080/"
        },
        "id": "qSRmr3b_lRz1",
        "outputId": "bb1b8935-d137-4c36-f6d6-3f3441d8fd7f"
      },
      "execution_count": 8,
      "outputs": [
        {
          "output_type": "stream",
          "name": "stdout",
          "text": [
            "\n",
            "\n",
            "R\n",
            "\n",
            "Y\n",
            "J\n",
            "P\n",
            "Z\n",
            "Z\n",
            "F\n",
            "G\n",
            "C\n",
            "T\n",
            "AA\n",
            "Z\n",
            "SYS\n",
            "KZK\n"
          ]
        }
      ]
    },
    {
      "cell_type": "code",
      "source": [
        "time_log = []\n",
        "lentgh = []\n",
        "X = []\n",
        "Y = []\n",
        "for a in range(1,4000,50):\n",
        "  X.append(generate_random_string(a))\n",
        "  Y.append(generate_random_string(a))\n",
        "\n",
        "for a in range(len(X)):\n",
        "  start_time = time.perf_counter()\n",
        "  lcps = LCPS(X[a], Y[a])\n",
        "  end_time = time.perf_counter()\n",
        "  elapsed_time = end_time - start_time\n",
        "  lentgh.append(len(X[a]))\n",
        "  time_log.append(elapsed_time)"
      ],
      "metadata": {
        "id": "r--Fq1ouOv8q"
      },
      "execution_count": 5,
      "outputs": []
    },
    {
      "cell_type": "code",
      "source": [
        "import matplotlib.pyplot as plt\n",
        "plt.plot(lentgh,time_log)\n",
        "#plt.plot(lentgh_bf[:14],time_log_bf[:14])\n",
        "plt.xlabel('length of strings')\n",
        "plt.ylabel('time(seconds)')\n",
        "plt.title('DP LCPS')\n",
        "plt.show()"
      ],
      "metadata": {
        "colab": {
          "base_uri": "https://localhost:8080/",
          "height": 472
        },
        "id": "BvoLwoEyPSN6",
        "outputId": "b5b0e574-ff73-4228-9fc4-db0d34ccf066"
      },
      "execution_count": 14,
      "outputs": [
        {
          "output_type": "display_data",
          "data": {
            "text/plain": [
              "<Figure size 640x480 with 1 Axes>"
            ],
            "image/png": "[encoded data removed]"
          },
          "metadata": {}
        }
      ]
    },
    {
      "cell_type": "code",
      "source": [
        "plt.plot(lentgh_bf,time_log_bf)\n",
        "plt.xlabel('length of strings')\n",
        "plt.ylabel('time(seconds)')\n",
        "plt.title('Brute-Force LCPS')\n",
        "plt.show()"
      ],
      "metadata": {
        "colab": {
          "base_uri": "https://localhost:8080/",
          "height": 472
        },
        "id": "K0HdiyNnnoij",
        "outputId": "04d6bc71-1bba-4fd7-83c4-e1e876486490"
      },
      "execution_count": 16,
      "outputs": [
        {
          "output_type": "display_data",
          "data": {
            "text/plain": [
              "<Figure size 640x480 with 1 Axes>"
            ],
            "image/png": "[encoded data removed]"
          },
          "metadata": {}
        }
      ]
    }
  ]
}